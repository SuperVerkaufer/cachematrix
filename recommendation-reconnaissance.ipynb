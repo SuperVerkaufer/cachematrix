{
 "cells": [
  {
   "cell_type": "markdown",
   "metadata": {
    "_uuid": "d7aa1b0ad6979877450f9cd89e1e37289b51cf6e"
   },
   "source": [
    "# **WIP Collaborative Filtering**"
   ]
  },
  {
   "cell_type": "markdown",
   "metadata": {},
   "source": [
    "#Step 1: Selection / Read case / Install Done\n",
    "#Step 2: Data review (type) / EDA Done\n",
    "#Step 3: JOIN link md and ratings Done\n",
    "#Step 4: EDA Done\n",
    "#Step 5: run Colab filtering Done\n",
    "#Step 6: Clean / Iterate Done\n",
    "#Step 7: Predict Done\n",
    "\n",
    "#Step 8: Check if item is indeed in top list of user 36. And not in list\n",
    "#Step 9: Run augmented code to see recommended movies\n",
    "#Step 10: Check if recommended movies make sense\n",
    "#Step TBD: Check what went wrong with the list of movies joined\n",
    "\n",
    "#Step 11: Github / Derive Code for dashboard\n",
    "#Step 12: Run dashboard\n",
    "#Step 13: Iterate/clean\n",
    "#Step 14: Github"
   ]
  },
  {
   "cell_type": "code",
   "execution_count": 1,
   "metadata": {
    "execution": {
     "iopub.execute_input": "2025-01-01T03:15:48.791717Z",
     "iopub.status.busy": "2025-01-01T03:15:48.791484Z",
     "iopub.status.idle": "2025-01-01T03:15:50.451401Z",
     "shell.execute_reply": "2025-01-01T03:15:50.450139Z",
     "shell.execute_reply.started": "2025-01-01T03:15:48.791668Z"
    }
   },
   "outputs": [],
   "source": [
    "%matplotlib inline\n",
    "import pandas as pd\n",
    "import numpy as np\n",
    "import matplotlib.pyplot as plt\n",
    "import seaborn as sns\n",
    "from scipy import stats\n",
    "from ast import literal_eval\n",
    "from sklearn.feature_extraction.text import TfidfVectorizer, CountVectorizer\n",
    "from sklearn.metrics.pairwise import linear_kernel, cosine_similarity\n",
    "from nltk.stem.snowball import SnowballStemmer\n",
    "from nltk.stem.wordnet import WordNetLemmatizer\n",
    "from nltk.corpus import wordnet\n",
    "from surprise import Reader, Dataset, SVD, evaluate\n",
    "\n",
    "import warnings; warnings.simplefilter('ignore')"
   ]
  },
  {
   "cell_type": "code",
   "execution_count": 2,
   "metadata": {
    "execution": {
     "iopub.execute_input": "2025-01-01T03:16:25.499510Z",
     "iopub.status.busy": "2025-01-01T03:16:25.499225Z",
     "iopub.status.idle": "2025-01-01T03:16:26.520850Z",
     "shell.execute_reply": "2025-01-01T03:16:26.520178Z",
     "shell.execute_reply.started": "2025-01-01T03:16:25.499465Z"
    }
   },
   "outputs": [
    {
     "data": {
      "text/html": [
       "<div>\n",
       "<style scoped>\n",
       "    .dataframe tbody tr th:only-of-type {\n",
       "        vertical-align: middle;\n",
       "    }\n",
       "\n",
       "    .dataframe tbody tr th {\n",
       "        vertical-align: top;\n",
       "    }\n",
       "\n",
       "    .dataframe thead th {\n",
       "        text-align: right;\n",
       "    }\n",
       "</style>\n",
       "<table border=\"1\" class=\"dataframe\">\n",
       "  <thead>\n",
       "    <tr style=\"text-align: right;\">\n",
       "      <th></th>\n",
       "      <th>userId</th>\n",
       "      <th>movieId</th>\n",
       "      <th>rating</th>\n",
       "      <th>timestamp</th>\n",
       "    </tr>\n",
       "  </thead>\n",
       "  <tbody>\n",
       "    <tr>\n",
       "      <th>0</th>\n",
       "      <td>1</td>\n",
       "      <td>31</td>\n",
       "      <td>2.5</td>\n",
       "      <td>1260759144</td>\n",
       "    </tr>\n",
       "    <tr>\n",
       "      <th>1</th>\n",
       "      <td>1</td>\n",
       "      <td>1029</td>\n",
       "      <td>3.0</td>\n",
       "      <td>1260759179</td>\n",
       "    </tr>\n",
       "    <tr>\n",
       "      <th>2</th>\n",
       "      <td>1</td>\n",
       "      <td>1061</td>\n",
       "      <td>3.0</td>\n",
       "      <td>1260759182</td>\n",
       "    </tr>\n",
       "  </tbody>\n",
       "</table>\n",
       "</div>"
      ],
      "text/plain": [
       "   userId  movieId  rating   timestamp\n",
       "0       1       31     2.5  1260759144\n",
       "1       1     1029     3.0  1260759179\n",
       "2       1     1061     3.0  1260759182"
      ]
     },
     "execution_count": 2,
     "metadata": {},
     "output_type": "execute_result"
    }
   ],
   "source": [
    "#DOWNLOAD data to dataframe\n",
    "reader = Reader()\n",
    "#ratings = pd.read_csv('../input/tmdb-ratings_small/tmdb_5000_movies.csv')\n",
    "rd = pd.read_csv('/kaggle/input/the-movies-dataset/ratings_small.csv')\n",
    "md= pd.read_csv('/kaggle/input/the-movies-dataset/movies_metadata.csv')\n",
    "ld= pd.read_csv('/kaggle/input/the-movies-dataset/links.csv')\n",
    "#ratings.head()\n",
    "rd.head(3)"
   ]
  },
  {
   "cell_type": "code",
   "execution_count": 3,
   "metadata": {
    "execution": {
     "iopub.execute_input": "2025-01-01T03:34:38.282774Z",
     "iopub.status.busy": "2025-01-01T03:34:38.282503Z",
     "iopub.status.idle": "2025-01-01T03:34:38.331807Z",
     "shell.execute_reply": "2025-01-01T03:34:38.331061Z",
     "shell.execute_reply.started": "2025-01-01T03:34:38.282728Z"
    }
   },
   "outputs": [
    {
     "data": {
      "text/html": [
       "<div>\n",
       "<style scoped>\n",
       "    .dataframe tbody tr th:only-of-type {\n",
       "        vertical-align: middle;\n",
       "    }\n",
       "\n",
       "    .dataframe tbody tr th {\n",
       "        vertical-align: top;\n",
       "    }\n",
       "\n",
       "    .dataframe thead th {\n",
       "        text-align: right;\n",
       "    }\n",
       "</style>\n",
       "<table border=\"1\" class=\"dataframe\">\n",
       "  <thead>\n",
       "    <tr style=\"text-align: right;\">\n",
       "      <th></th>\n",
       "      <th>adult</th>\n",
       "      <th>belongs_to_collection</th>\n",
       "      <th>budget</th>\n",
       "      <th>genres</th>\n",
       "      <th>homepage</th>\n",
       "      <th>id</th>\n",
       "      <th>imdb_id</th>\n",
       "      <th>original_language</th>\n",
       "      <th>original_title</th>\n",
       "      <th>overview</th>\n",
       "      <th>popularity</th>\n",
       "      <th>poster_path</th>\n",
       "      <th>production_companies</th>\n",
       "      <th>production_countries</th>\n",
       "      <th>release_date</th>\n",
       "      <th>revenue</th>\n",
       "      <th>runtime</th>\n",
       "      <th>spoken_languages</th>\n",
       "      <th>status</th>\n",
       "      <th>tagline</th>\n",
       "      <th>title</th>\n",
       "      <th>video</th>\n",
       "      <th>vote_average</th>\n",
       "      <th>vote_count</th>\n",
       "    </tr>\n",
       "  </thead>\n",
       "  <tbody>\n",
       "    <tr>\n",
       "      <th>0</th>\n",
       "      <td>False</td>\n",
       "      <td>{'id': 10194, 'name': 'Toy Story Collection', ...</td>\n",
       "      <td>30000000</td>\n",
       "      <td>[{'id': 16, 'name': 'Animation'}, {'id': 35, '...</td>\n",
       "      <td>http://toystory.disney.com/toy-story</td>\n",
       "      <td>862</td>\n",
       "      <td>tt0114709</td>\n",
       "      <td>en</td>\n",
       "      <td>Toy Story</td>\n",
       "      <td>Led by Woody, Andy's toys live happily in his ...</td>\n",
       "      <td>21.9469</td>\n",
       "      <td>/rhIRbceoE9lR4veEXuwCC2wARtG.jpg</td>\n",
       "      <td>[{'name': 'Pixar Animation Studios', 'id': 3}]</td>\n",
       "      <td>[{'iso_3166_1': 'US', 'name': 'United States o...</td>\n",
       "      <td>1995-10-30</td>\n",
       "      <td>373554033.0</td>\n",
       "      <td>81.0</td>\n",
       "      <td>[{'iso_639_1': 'en', 'name': 'English'}]</td>\n",
       "      <td>Released</td>\n",
       "      <td>NaN</td>\n",
       "      <td>Toy Story</td>\n",
       "      <td>False</td>\n",
       "      <td>7.7</td>\n",
       "      <td>5415.0</td>\n",
       "    </tr>\n",
       "    <tr>\n",
       "      <th>1</th>\n",
       "      <td>False</td>\n",
       "      <td>NaN</td>\n",
       "      <td>65000000</td>\n",
       "      <td>[{'id': 12, 'name': 'Adventure'}, {'id': 14, '...</td>\n",
       "      <td>NaN</td>\n",
       "      <td>8844</td>\n",
       "      <td>tt0113497</td>\n",
       "      <td>en</td>\n",
       "      <td>Jumanji</td>\n",
       "      <td>When siblings Judy and Peter discover an encha...</td>\n",
       "      <td>17.0155</td>\n",
       "      <td>/vzmL6fP7aPKNKPRTFnZmiUfciyV.jpg</td>\n",
       "      <td>[{'name': 'TriStar Pictures', 'id': 559}, {'na...</td>\n",
       "      <td>[{'iso_3166_1': 'US', 'name': 'United States o...</td>\n",
       "      <td>1995-12-15</td>\n",
       "      <td>262797249.0</td>\n",
       "      <td>104.0</td>\n",
       "      <td>[{'iso_639_1': 'en', 'name': 'English'}, {'iso...</td>\n",
       "      <td>Released</td>\n",
       "      <td>Roll the dice and unleash the excitement!</td>\n",
       "      <td>Jumanji</td>\n",
       "      <td>False</td>\n",
       "      <td>6.9</td>\n",
       "      <td>2413.0</td>\n",
       "    </tr>\n",
       "    <tr>\n",
       "      <th>2</th>\n",
       "      <td>False</td>\n",
       "      <td>{'id': 119050, 'name': 'Grumpy Old Men Collect...</td>\n",
       "      <td>0</td>\n",
       "      <td>[{'id': 10749, 'name': 'Romance'}, {'id': 35, ...</td>\n",
       "      <td>NaN</td>\n",
       "      <td>15602</td>\n",
       "      <td>tt0113228</td>\n",
       "      <td>en</td>\n",
       "      <td>Grumpier Old Men</td>\n",
       "      <td>A family wedding reignites the ancient feud be...</td>\n",
       "      <td>11.7129</td>\n",
       "      <td>/6ksm1sjKMFLbO7UY2i6G1ju9SML.jpg</td>\n",
       "      <td>[{'name': 'Warner Bros.', 'id': 6194}, {'name'...</td>\n",
       "      <td>[{'iso_3166_1': 'US', 'name': 'United States o...</td>\n",
       "      <td>1995-12-22</td>\n",
       "      <td>0.0</td>\n",
       "      <td>101.0</td>\n",
       "      <td>[{'iso_639_1': 'en', 'name': 'English'}]</td>\n",
       "      <td>Released</td>\n",
       "      <td>Still Yelling. Still Fighting. Still Ready for...</td>\n",
       "      <td>Grumpier Old Men</td>\n",
       "      <td>False</td>\n",
       "      <td>6.5</td>\n",
       "      <td>92.0</td>\n",
       "    </tr>\n",
       "  </tbody>\n",
       "</table>\n",
       "</div>"
      ],
      "text/plain": [
       "   adult    ...     vote_count\n",
       "0  False    ...         5415.0\n",
       "1  False    ...         2413.0\n",
       "2  False    ...           92.0\n",
       "\n",
       "[3 rows x 24 columns]"
      ]
     },
     "execution_count": 3,
     "metadata": {},
     "output_type": "execute_result"
    }
   ],
   "source": [
    "#metadata head\n",
    "md.head(3)\n"
   ]
  },
  {
   "cell_type": "code",
   "execution_count": 4,
   "metadata": {
    "execution": {
     "iopub.execute_input": "2025-01-01T03:16:40.642336Z",
     "iopub.status.busy": "2025-01-01T03:16:40.642008Z",
     "iopub.status.idle": "2025-01-01T03:16:40.654373Z",
     "shell.execute_reply": "2025-01-01T03:16:40.653651Z",
     "shell.execute_reply.started": "2025-01-01T03:16:40.642284Z"
    }
   },
   "outputs": [
    {
     "data": {
      "text/html": [
       "<div>\n",
       "<style scoped>\n",
       "    .dataframe tbody tr th:only-of-type {\n",
       "        vertical-align: middle;\n",
       "    }\n",
       "\n",
       "    .dataframe tbody tr th {\n",
       "        vertical-align: top;\n",
       "    }\n",
       "\n",
       "    .dataframe thead th {\n",
       "        text-align: right;\n",
       "    }\n",
       "</style>\n",
       "<table border=\"1\" class=\"dataframe\">\n",
       "  <thead>\n",
       "    <tr style=\"text-align: right;\">\n",
       "      <th></th>\n",
       "      <th>movieId</th>\n",
       "      <th>imdbId</th>\n",
       "      <th>tmdbId</th>\n",
       "    </tr>\n",
       "  </thead>\n",
       "  <tbody>\n",
       "    <tr>\n",
       "      <th>0</th>\n",
       "      <td>1</td>\n",
       "      <td>114709</td>\n",
       "      <td>862.0</td>\n",
       "    </tr>\n",
       "    <tr>\n",
       "      <th>1</th>\n",
       "      <td>2</td>\n",
       "      <td>113497</td>\n",
       "      <td>8844.0</td>\n",
       "    </tr>\n",
       "    <tr>\n",
       "      <th>2</th>\n",
       "      <td>3</td>\n",
       "      <td>113228</td>\n",
       "      <td>15602.0</td>\n",
       "    </tr>\n",
       "  </tbody>\n",
       "</table>\n",
       "</div>"
      ],
      "text/plain": [
       "   movieId  imdbId   tmdbId\n",
       "0        1  114709    862.0\n",
       "1        2  113497   8844.0\n",
       "2        3  113228  15602.0"
      ]
     },
     "execution_count": 4,
     "metadata": {},
     "output_type": "execute_result"
    }
   ],
   "source": [
    "#EXPLORE link data head\n",
    "ld.head(3)\n"
   ]
  },
  {
   "cell_type": "code",
   "execution_count": 5,
   "metadata": {
    "execution": {
     "iopub.execute_input": "2025-01-01T03:16:43.707212Z",
     "iopub.status.busy": "2025-01-01T03:16:43.706905Z",
     "iopub.status.idle": "2025-01-01T03:16:43.795362Z",
     "shell.execute_reply": "2025-01-01T03:16:43.794434Z",
     "shell.execute_reply.started": "2025-01-01T03:16:43.707160Z"
    }
   },
   "outputs": [
    {
     "name": "stdout",
     "output_type": "stream",
     "text": [
      "<class 'pandas.core.frame.DataFrame'>\n",
      "RangeIndex: 100004 entries, 0 to 100003\n",
      "Data columns (total 4 columns):\n",
      "userId       100004 non-null int64\n",
      "movieId      100004 non-null int64\n",
      "rating       100004 non-null float64\n",
      "timestamp    100004 non-null int64\n",
      "dtypes: float64(1), int64(3)\n",
      "memory usage: 3.1 MB\n",
      "<class 'pandas.core.frame.DataFrame'>\n",
      "RangeIndex: 45843 entries, 0 to 45842\n",
      "Data columns (total 3 columns):\n",
      "movieId    45843 non-null int64\n",
      "imdbId     45843 non-null int64\n",
      "tmdbId     45624 non-null float64\n",
      "dtypes: float64(1), int64(2)\n",
      "memory usage: 1.0 MB\n",
      "<class 'pandas.core.frame.DataFrame'>\n",
      "RangeIndex: 45466 entries, 0 to 45465\n",
      "Data columns (total 24 columns):\n",
      "adult                    45466 non-null object\n",
      "belongs_to_collection    4494 non-null object\n",
      "budget                   45466 non-null object\n",
      "genres                   45466 non-null object\n",
      "homepage                 7782 non-null object\n",
      "id                       45466 non-null object\n",
      "imdb_id                  45449 non-null object\n",
      "original_language        45455 non-null object\n",
      "original_title           45466 non-null object\n",
      "overview                 44512 non-null object\n",
      "popularity               45461 non-null object\n",
      "poster_path              45080 non-null object\n",
      "production_companies     45463 non-null object\n",
      "production_countries     45463 non-null object\n",
      "release_date             45379 non-null object\n",
      "revenue                  45460 non-null float64\n",
      "runtime                  45203 non-null float64\n",
      "spoken_languages         45460 non-null object\n",
      "status                   45379 non-null object\n",
      "tagline                  20412 non-null object\n",
      "title                    45460 non-null object\n",
      "video                    45460 non-null object\n",
      "vote_average             45460 non-null float64\n",
      "vote_count               45460 non-null float64\n",
      "dtypes: float64(4), object(20)\n",
      "memory usage: 8.3+ MB\n"
     ]
    }
   ],
   "source": [
    "#CHECK NULL VALUES\n",
    "#null_values = rd.isnull()\n",
    "#print(null_values)\n",
    "rd.info()\n",
    "ld.info()\n",
    "md.info()"
   ]
  },
  {
   "cell_type": "code",
   "execution_count": 6,
   "metadata": {
    "execution": {
     "iopub.execute_input": "2025-01-01T03:16:47.493252Z",
     "iopub.status.busy": "2025-01-01T03:16:47.492927Z",
     "iopub.status.idle": "2025-01-01T03:16:47.543606Z",
     "shell.execute_reply": "2025-01-01T03:16:47.542756Z",
     "shell.execute_reply.started": "2025-01-01T03:16:47.493197Z"
    }
   },
   "outputs": [
    {
     "name": "stdout",
     "output_type": "stream",
     "text": [
      "<class 'pandas.core.frame.DataFrame'>\n",
      "Int64Index: 99958 entries, 0 to 99957\n",
      "Data columns (total 6 columns):\n",
      "userId       99958 non-null int64\n",
      "movieId      99958 non-null int64\n",
      "rating       99958 non-null float64\n",
      "timestamp    99958 non-null int64\n",
      "imdbId       99958 non-null int64\n",
      "tmdbId       99898 non-null float64\n",
      "dtypes: float64(2), int64(4)\n",
      "memory usage: 5.3 MB\n"
     ]
    }
   ],
   "source": [
    "# MERGE rd with ld so as to append a linking variable tmdbId that can connect with md (md has movie titles)\n",
    "rd_ld = pd.merge(rd, ld, on='movieId')\n",
    "rd_ld.head(5)\n",
    "rd_ld.info()\n",
    "\n"
   ]
  },
  {
   "cell_type": "code",
   "execution_count": 7,
   "metadata": {
    "execution": {
     "iopub.execute_input": "2025-01-01T03:16:51.225426Z",
     "iopub.status.busy": "2025-01-01T03:16:51.225152Z",
     "iopub.status.idle": "2025-01-01T03:16:51.247782Z",
     "shell.execute_reply": "2025-01-01T03:16:51.247069Z",
     "shell.execute_reply.started": "2025-01-01T03:16:51.225382Z"
    }
   },
   "outputs": [
    {
     "data": {
      "text/html": [
       "<div>\n",
       "<style scoped>\n",
       "    .dataframe tbody tr th:only-of-type {\n",
       "        vertical-align: middle;\n",
       "    }\n",
       "\n",
       "    .dataframe tbody tr th {\n",
       "        vertical-align: top;\n",
       "    }\n",
       "\n",
       "    .dataframe thead th {\n",
       "        text-align: right;\n",
       "    }\n",
       "</style>\n",
       "<table border=\"1\" class=\"dataframe\">\n",
       "  <thead>\n",
       "    <tr style=\"text-align: right;\">\n",
       "      <th></th>\n",
       "      <th>userId</th>\n",
       "      <th>movieId</th>\n",
       "      <th>rating</th>\n",
       "      <th>timestamp</th>\n",
       "      <th>imdbId</th>\n",
       "      <th>id</th>\n",
       "    </tr>\n",
       "  </thead>\n",
       "  <tbody>\n",
       "    <tr>\n",
       "      <th>0</th>\n",
       "      <td>1</td>\n",
       "      <td>31</td>\n",
       "      <td>2.5</td>\n",
       "      <td>1260759144</td>\n",
       "      <td>112792</td>\n",
       "      <td>9909.0</td>\n",
       "    </tr>\n",
       "    <tr>\n",
       "      <th>1</th>\n",
       "      <td>7</td>\n",
       "      <td>31</td>\n",
       "      <td>3.0</td>\n",
       "      <td>851868750</td>\n",
       "      <td>112792</td>\n",
       "      <td>9909.0</td>\n",
       "    </tr>\n",
       "    <tr>\n",
       "      <th>2</th>\n",
       "      <td>31</td>\n",
       "      <td>31</td>\n",
       "      <td>4.0</td>\n",
       "      <td>1273541953</td>\n",
       "      <td>112792</td>\n",
       "      <td>9909.0</td>\n",
       "    </tr>\n",
       "    <tr>\n",
       "      <th>3</th>\n",
       "      <td>32</td>\n",
       "      <td>31</td>\n",
       "      <td>4.0</td>\n",
       "      <td>834828440</td>\n",
       "      <td>112792</td>\n",
       "      <td>9909.0</td>\n",
       "    </tr>\n",
       "    <tr>\n",
       "      <th>4</th>\n",
       "      <td>36</td>\n",
       "      <td>31</td>\n",
       "      <td>3.0</td>\n",
       "      <td>847057202</td>\n",
       "      <td>112792</td>\n",
       "      <td>9909.0</td>\n",
       "    </tr>\n",
       "  </tbody>\n",
       "</table>\n",
       "</div>"
      ],
      "text/plain": [
       "   userId  movieId  rating   timestamp  imdbId      id\n",
       "0       1       31     2.5  1260759144  112792  9909.0\n",
       "1       7       31     3.0   851868750  112792  9909.0\n",
       "2      31       31     4.0  1273541953  112792  9909.0\n",
       "3      32       31     4.0   834828440  112792  9909.0\n",
       "4      36       31     3.0   847057202  112792  9909.0"
      ]
     },
     "execution_count": 7,
     "metadata": {},
     "output_type": "execute_result"
    }
   ],
   "source": [
    "#RENAME new rd_ld DB's ID so as to mirror md's ID before merging\n",
    "rd_ld = rd_ld.rename(columns={'tmdbId': 'id'})\n",
    "rd_ld.head(5)  # Output:   new_column"
   ]
  },
  {
   "cell_type": "code",
   "execution_count": 8,
   "metadata": {
    "execution": {
     "iopub.execute_input": "2025-01-01T03:16:54.186092Z",
     "iopub.status.busy": "2025-01-01T03:16:54.185769Z",
     "iopub.status.idle": "2025-01-01T03:16:54.299209Z",
     "shell.execute_reply": "2025-01-01T03:16:54.298497Z",
     "shell.execute_reply.started": "2025-01-01T03:16:54.186033Z"
    }
   },
   "outputs": [
    {
     "name": "stdout",
     "output_type": "stream",
     "text": [
      "float64\n",
      "<class 'pandas.core.frame.DataFrame'>\n",
      "RangeIndex: 45466 entries, 0 to 45465\n",
      "Data columns (total 24 columns):\n",
      "adult                    45466 non-null object\n",
      "belongs_to_collection    4494 non-null object\n",
      "budget                   45466 non-null object\n",
      "genres                   45466 non-null object\n",
      "homepage                 7782 non-null object\n",
      "id                       45463 non-null float64\n",
      "imdb_id                  45449 non-null object\n",
      "original_language        45455 non-null object\n",
      "original_title           45466 non-null object\n",
      "overview                 44512 non-null object\n",
      "popularity               45461 non-null object\n",
      "poster_path              45080 non-null object\n",
      "production_companies     45463 non-null object\n",
      "production_countries     45463 non-null object\n",
      "release_date             45379 non-null object\n",
      "revenue                  45460 non-null float64\n",
      "runtime                  45203 non-null float64\n",
      "spoken_languages         45460 non-null object\n",
      "status                   45379 non-null object\n",
      "tagline                  20412 non-null object\n",
      "title                    45460 non-null object\n",
      "video                    45460 non-null object\n",
      "vote_average             45460 non-null float64\n",
      "vote_count               45460 non-null float64\n",
      "dtypes: float64(5), object(19)\n",
      "memory usage: 8.3+ MB\n"
     ]
    }
   ],
   "source": [
    "# CONVERT md ID column to numeric before merging\n",
    "md['id'] = pd.to_numeric(md['id'], errors='coerce')\n",
    "print(md['id'].dtype)  # Output: float64\n",
    "md.info()"
   ]
  },
  {
   "cell_type": "code",
   "execution_count": 9,
   "metadata": {
    "execution": {
     "iopub.execute_input": "2025-01-01T03:16:57.485008Z",
     "iopub.status.busy": "2025-01-01T03:16:57.484552Z",
     "iopub.status.idle": "2025-01-01T03:16:57.737257Z",
     "shell.execute_reply": "2025-01-01T03:16:57.736291Z",
     "shell.execute_reply.started": "2025-01-01T03:16:57.484781Z"
    }
   },
   "outputs": [
    {
     "data": {
      "text/html": [
       "<div>\n",
       "<style scoped>\n",
       "    .dataframe tbody tr th:only-of-type {\n",
       "        vertical-align: middle;\n",
       "    }\n",
       "\n",
       "    .dataframe tbody tr th {\n",
       "        vertical-align: top;\n",
       "    }\n",
       "\n",
       "    .dataframe thead th {\n",
       "        text-align: right;\n",
       "    }\n",
       "</style>\n",
       "<table border=\"1\" class=\"dataframe\">\n",
       "  <thead>\n",
       "    <tr style=\"text-align: right;\">\n",
       "      <th></th>\n",
       "      <th>userId</th>\n",
       "      <th>movieId</th>\n",
       "      <th>id</th>\n",
       "      <th>title</th>\n",
       "      <th>budget</th>\n",
       "      <th>genres</th>\n",
       "      <th>popularity</th>\n",
       "      <th>revenue</th>\n",
       "      <th>production_countries</th>\n",
       "      <th>vote_average</th>\n",
       "      <th>rating</th>\n",
       "    </tr>\n",
       "  </thead>\n",
       "  <tbody>\n",
       "    <tr>\n",
       "      <th>100025</th>\n",
       "      <td>664</td>\n",
       "      <td>64997</td>\n",
       "      <td>34812.0</td>\n",
       "      <td>H.G. Wells' War of the Worlds</td>\n",
       "      <td>1000000</td>\n",
       "      <td>[{'id': 878, 'name': 'Science Fiction'}]</td>\n",
       "      <td>1.31408</td>\n",
       "      <td>0.0</td>\n",
       "      <td>[{'iso_3166_1': 'US', 'name': 'United States o...</td>\n",
       "      <td>4.4</td>\n",
       "      <td>2.5</td>\n",
       "    </tr>\n",
       "    <tr>\n",
       "      <th>100026</th>\n",
       "      <td>664</td>\n",
       "      <td>72380</td>\n",
       "      <td>22825.0</td>\n",
       "      <td>The Box</td>\n",
       "      <td>30000000</td>\n",
       "      <td>[{'id': 53, 'name': 'Thriller'}, {'id': 878, '...</td>\n",
       "      <td>10.4249</td>\n",
       "      <td>33333531.0</td>\n",
       "      <td>[{'iso_3166_1': 'US', 'name': 'United States o...</td>\n",
       "      <td>5.4</td>\n",
       "      <td>3.5</td>\n",
       "    </tr>\n",
       "    <tr>\n",
       "      <th>100027</th>\n",
       "      <td>665</td>\n",
       "      <td>129</td>\n",
       "      <td>110972.0</td>\n",
       "      <td>Pie in the Sky</td>\n",
       "      <td>0</td>\n",
       "      <td>[{'id': 35, 'name': 'Comedy'}, {'id': 10749, '...</td>\n",
       "      <td>0.699066</td>\n",
       "      <td>0.0</td>\n",
       "      <td>[]</td>\n",
       "      <td>7.0</td>\n",
       "      <td>3.0</td>\n",
       "    </tr>\n",
       "    <tr>\n",
       "      <th>100028</th>\n",
       "      <td>665</td>\n",
       "      <td>4736</td>\n",
       "      <td>26602.0</td>\n",
       "      <td>Summer Catch</td>\n",
       "      <td>34000000</td>\n",
       "      <td>[{'id': 18, 'name': 'Drama'}, {'id': 35, 'name...</td>\n",
       "      <td>5.49987</td>\n",
       "      <td>19693891.0</td>\n",
       "      <td>[{'iso_3166_1': 'US', 'name': 'United States o...</td>\n",
       "      <td>4.8</td>\n",
       "      <td>1.0</td>\n",
       "    </tr>\n",
       "    <tr>\n",
       "      <th>100029</th>\n",
       "      <td>668</td>\n",
       "      <td>6425</td>\n",
       "      <td>36807.0</td>\n",
       "      <td>The Sixth Man</td>\n",
       "      <td>0</td>\n",
       "      <td>[{'id': 14, 'name': 'Fantasy'}, {'id': 18, 'na...</td>\n",
       "      <td>3.74765</td>\n",
       "      <td>0.0</td>\n",
       "      <td>[{'iso_3166_1': 'US', 'name': 'United States o...</td>\n",
       "      <td>5.0</td>\n",
       "      <td>1.0</td>\n",
       "    </tr>\n",
       "  </tbody>\n",
       "</table>\n",
       "</div>"
      ],
      "text/plain": [
       "        userId  movieId  ...    vote_average rating\n",
       "100025     664    64997  ...             4.4    2.5\n",
       "100026     664    72380  ...             5.4    3.5\n",
       "100027     665      129  ...             7.0    3.0\n",
       "100028     665     4736  ...             4.8    1.0\n",
       "100029     668     6425  ...             5.0    1.0\n",
       "\n",
       "[5 rows x 11 columns]"
      ]
     },
     "execution_count": 9,
     "metadata": {},
     "output_type": "execute_result"
    }
   ],
   "source": [
    "# MERGED DATASET - eventually didn't help me much either LOL\n",
    "# MERGE rd ld md so that userID movie name and ratings can all be connected in same file\n",
    "rd_ld_md = pd.merge(rd_ld, md, on='id')\n",
    "movie_ratings_joined = rd_ld_md[['userId', 'movieId','id', 'title', 'budget','genres', 'popularity','revenue', 'production_countries', 'vote_average', 'rating']]\n",
    "#print(movie_ratings_joined)\n",
    "movie_ratings_joined.tail(5)\n",
    "#movie_ratings_joined.info()"
   ]
  },
  {
   "cell_type": "code",
   "execution_count": 10,
   "metadata": {
    "execution": {
     "iopub.execute_input": "2025-01-01T03:17:01.745960Z",
     "iopub.status.busy": "2025-01-01T03:17:01.745678Z",
     "iopub.status.idle": "2025-01-01T03:17:01.751463Z",
     "shell.execute_reply": "2025-01-01T03:17:01.750733Z",
     "shell.execute_reply.started": "2025-01-01T03:17:01.745904Z"
    }
   },
   "outputs": [
    {
     "data": {
      "text/plain": [
       "(100030, 11)"
      ]
     },
     "execution_count": 10,
     "metadata": {},
     "output_type": "execute_result"
    }
   ],
   "source": [
    "movie_ratings_joined.shape\n",
    "#movie_ratings_joined.info()\n"
   ]
  },
  {
   "cell_type": "code",
   "execution_count": 11,
   "metadata": {
    "execution": {
     "iopub.execute_input": "2025-01-01T03:17:04.305873Z",
     "iopub.status.busy": "2025-01-01T03:17:04.305597Z",
     "iopub.status.idle": "2025-01-01T03:17:05.318580Z",
     "shell.execute_reply": "2025-01-01T03:17:05.317758Z",
     "shell.execute_reply.started": "2025-01-01T03:17:04.305829Z"
    }
   },
   "outputs": [
    {
     "data": {
      "image/png": "[encoded data removed]",
      "text/plain": [
       "<Figure size 576x432 with 1 Axes>"
      ]
     },
     "metadata": {},
     "output_type": "display_data"
    }
   ],
   "source": [
    "# EDA (didn't help me much)\n",
    "plt.figure(figsize=(8, 6))\n",
    "plt.scatter(movie_ratings_joined['revenue'], movie_ratings_joined['vote_average'])\n",
    "\n",
    "# Add title and labels\n",
    "plt.title('Scatterplot of revenue vs vote_average')\n",
    "plt.xlabel('popularity')\n",
    "plt.ylabel('vote_average')\n",
    "\n",
    "# Display the plot\n",
    "plt.show()\n"
   ]
  },
  {
   "cell_type": "code",
   "execution_count": 12,
   "metadata": {
    "execution": {
     "iopub.execute_input": "2025-01-01T03:17:08.321071Z",
     "iopub.status.busy": "2025-01-01T03:17:08.320777Z",
     "iopub.status.idle": "2025-01-01T03:17:08.519030Z",
     "shell.execute_reply": "2025-01-01T03:17:08.518026Z",
     "shell.execute_reply.started": "2025-01-01T03:17:08.321025Z"
    }
   },
   "outputs": [
    {
     "data": {
      "image/png": "[encoded data removed]",
      "text/plain": [
       "<Figure size 432x288 with 1 Axes>"
      ]
     },
     "metadata": {},
     "output_type": "display_data"
    }
   ],
   "source": [
    "# HISTOGRAM (didn't help me much)\n",
    "plt.hist(movie_ratings_joined['rating'], bins=11, alpha=0.7, color='skyblue', edgecolor='black')\n",
    "\n",
    "# Add title and labels\n",
    "plt.title('Histogram of ratings')\n",
    "plt.xlabel('ratings')\n",
    "plt.ylabel('Frequency')\n",
    "\n",
    "# Display the plot\n",
    "plt.show()"
   ]
  },
  {
   "cell_type": "code",
   "execution_count": 13,
   "metadata": {
    "execution": {
     "iopub.execute_input": "2025-01-01T03:17:11.735099Z",
     "iopub.status.busy": "2025-01-01T03:17:11.734823Z",
     "iopub.status.idle": "2025-01-01T03:17:11.947637Z",
     "shell.execute_reply": "2025-01-01T03:17:11.946640Z",
     "shell.execute_reply.started": "2025-01-01T03:17:11.735047Z"
    }
   },
   "outputs": [
    {
     "name": "stdout",
     "output_type": "stream",
     "text": [
      "float64\n",
      "<class 'pandas.core.frame.DataFrame'>\n",
      "Int64Index: 100030 entries, 0 to 100029\n",
      "Data columns (total 11 columns):\n",
      "userId                  100030 non-null int64\n",
      "movieId                 100030 non-null int64\n",
      "id                      99850 non-null float64\n",
      "title                   99850 non-null object\n",
      "budget                  100030 non-null object\n",
      "genres                  100030 non-null object\n",
      "popularity              99850 non-null float64\n",
      "revenue                 99850 non-null float64\n",
      "production_countries    100030 non-null object\n",
      "vote_average            99850 non-null float64\n",
      "rating                  100030 non-null float64\n",
      "dtypes: float64(5), int64(2), object(4)\n",
      "memory usage: 9.2+ MB\n",
      "float64\n",
      "<class 'pandas.core.frame.DataFrame'>\n",
      "Int64Index: 100030 entries, 0 to 100029\n",
      "Data columns (total 11 columns):\n",
      "userId                  100030 non-null int64\n",
      "movieId                 100030 non-null int64\n",
      "id                      99850 non-null float64\n",
      "title                   99850 non-null object\n",
      "budget                  100030 non-null object\n",
      "genres                  100030 non-null object\n",
      "popularity              99850 non-null float64\n",
      "revenue                 99850 non-null float64\n",
      "production_countries    100030 non-null object\n",
      "vote_average            99850 non-null float64\n",
      "rating                  100030 non-null float64\n",
      "dtypes: float64(5), int64(2), object(4)\n",
      "memory usage: 9.2+ MB\n"
     ]
    }
   ],
   "source": [
    "#CONVERT some fields to numeric from the merged dataset\n",
    "movie_ratings_joined['popularity'] = pd.to_numeric(movie_ratings_joined['popularity'], errors='coerce')\n",
    "print(movie_ratings_joined['popularity'].dtype)  # Output: float64\n",
    "movie_ratings_joined.info()\n",
    "\n",
    "movie_ratings_joined['vote_average'] = pd.to_numeric(movie_ratings_joined['vote_average'], errors='coerce')\n",
    "print(movie_ratings_joined['vote_average'].dtype)  # Output: float64\n",
    "movie_ratings_joined.info()"
   ]
  },
  {
   "cell_type": "code",
   "execution_count": 14,
   "metadata": {
    "execution": {
     "iopub.execute_input": "2025-01-01T03:17:15.163401Z",
     "iopub.status.busy": "2025-01-01T03:17:15.163066Z",
     "iopub.status.idle": "2025-01-01T03:17:15.249584Z",
     "shell.execute_reply": "2025-01-01T03:17:15.248817Z",
     "shell.execute_reply.started": "2025-01-01T03:17:15.163343Z"
    }
   },
   "outputs": [
    {
     "name": "stdout",
     "output_type": "stream",
     "text": [
      "userId                    0\n",
      "movieId                   0\n",
      "id                      180\n",
      "title                   180\n",
      "budget                    0\n",
      "genres                    0\n",
      "popularity              180\n",
      "revenue                 180\n",
      "production_countries      0\n",
      "vote_average            180\n",
      "rating                    0\n",
      "dtype: int64\n",
      "<class 'pandas.core.frame.DataFrame'>\n",
      "Int64Index: 100030 entries, 0 to 100029\n",
      "Data columns (total 11 columns):\n",
      "userId                  100030 non-null int64\n",
      "movieId                 100030 non-null int64\n",
      "id                      99850 non-null float64\n",
      "title                   99850 non-null object\n",
      "budget                  100030 non-null object\n",
      "genres                  100030 non-null object\n",
      "popularity              99850 non-null float64\n",
      "revenue                 99850 non-null float64\n",
      "production_countries    100030 non-null object\n",
      "vote_average            99850 non-null float64\n",
      "rating                  100030 non-null float64\n",
      "dtypes: float64(5), int64(2), object(4)\n",
      "memory usage: 9.2+ MB\n"
     ]
    }
   ],
   "source": [
    "# DATA REVIEW CHECKS\n",
    "\n",
    "#Run barchartwith of production origin \n",
    "\n",
    "#index = md[md['id'] == '1029'].index[0]\n",
    "#print(f\"Value 'id' found at index {index}\")\n",
    "#index = md.index('139405')\n",
    "#Print(f\"Value '139405' found at index {index}\")\n",
    "#row = rd.loc[rd['movieId'] == 31]\n",
    "#print(row)\n",
    "#id_map = pd.read_csv('../input/links_small.csv')[['movieId', 'tmdbId']]\n",
    "#id_map['tmdbId'] = id_map['tmdbId'].apply(convert_int)\n",
    "#id_map.columns = ['movieId', 'id']\n",
    "#id_map = id_map.merge(smd[['title', 'id']], on='id').set_index('title')\n",
    "\n",
    "#check of TMBID can be found in md\n",
    "row = md.loc[md['id'] == 9909]\n",
    "row.head()\n",
    "\n",
    "#check how many null is there\n",
    "missing_values = movie_ratings_joined.isnull().sum()\n",
    "#missing_values = movie_ratings_joined.isnull()\n",
    "print(missing_values)\n",
    "movie_ratings_joined.info()"
   ]
  },
  {
   "cell_type": "code",
   "execution_count": 15,
   "metadata": {
    "execution": {
     "iopub.execute_input": "2025-01-01T03:17:20.085693Z",
     "iopub.status.busy": "2025-01-01T03:17:20.085409Z",
     "iopub.status.idle": "2025-01-01T03:17:20.090307Z",
     "shell.execute_reply": "2025-01-01T03:17:20.089157Z",
     "shell.execute_reply.started": "2025-01-01T03:17:20.085647Z"
    }
   },
   "outputs": [],
   "source": [
    "# EDA (didn't help me much)\n",
    "\n",
    "# Create figure and axis\n",
    "##fig, ax = plt.subplots(figsize=(10, 6))\n",
    "\n",
    "# Plot bar chart\n",
    "#ax.bar(movie_ratings_joined['production_countries'], movie_ratings_joined['vote_average'].mean())\n",
    "\n",
    "#average_values = movie_ratings_joined.groupby('production_countries')['vote_average'].mean()\n",
    "##ax.bar(movie_ratings_joined['production_countries'], movie_ratings_joined.groupby('production_countries')['vote_average'].mean())\n",
    "#SHOULD TRY SQL HERE\n",
    "\n",
    "# Set title and labels\n",
    "##ax.set_title('Vote avg by country')\n",
    "##ax.set_xlabel('Country')\n",
    "##ax.set_ylabel('Vote AVG')\n",
    "\n",
    "# Rotate x-axis labels for better readability\n",
    "##plt.xticks(rotation=45)\n",
    "\n",
    "# Show plot\n",
    "##plt.show()"
   ]
  },
  {
   "cell_type": "code",
   "execution_count": 16,
   "metadata": {
    "execution": {
     "iopub.execute_input": "2025-01-01T03:17:26.619138Z",
     "iopub.status.busy": "2025-01-01T03:17:26.618784Z",
     "iopub.status.idle": "2025-01-01T03:17:44.901635Z",
     "shell.execute_reply": "2025-01-01T03:17:44.900902Z",
     "shell.execute_reply.started": "2025-01-01T03:17:26.619057Z"
    }
   },
   "outputs": [
    {
     "name": "stdout",
     "output_type": "stream",
     "text": [
      "Estimating biases using als...\n",
      "Computing the pearson_baseline similarity matrix...\n",
      "Done computing similarity matrix.\n",
      "RMSE: 0.9215\n",
      "MAE:  0.7006\n"
     ]
    },
    {
     "data": {
      "text/plain": [
       "0.7005702327846381"
      ]
     },
     "execution_count": 16,
     "metadata": {},
     "output_type": "execute_result"
    }
   ],
   "source": [
    "# RECOMMENDER BUILDING leading up to predicted ratings\n",
    "from surprise import KNNWithMeans\n",
    "from surprise import Dataset\n",
    "from surprise.model_selection import train_test_split\n",
    "from surprise import accuracy\n",
    "from surprise import Reader\n",
    "\n",
    "#df = pd.DataFrame(ratings_dict)\n",
    "#df = pd.DataFrame(movie_ratings_joined)\n",
    "#Define the reader\n",
    "#reader = Reader(rating_scale=(1, 5))\n",
    "reader = Reader()\n",
    "\n",
    "# Build the dataset\n",
    "#data = Dataset.load_from_df(movie_ratings_joined[[\"userId\", \"title\", \"rating\"]], reader)\n",
    "#data = Dataset.load_from_df(movie_ratings_joined[['userId', 'title', 'rating']], reader)\n",
    "#data = Dataset.load_from_df(df[['userId', 'title', 'rating']], reader)\n",
    "data = Dataset.load_from_df(rd[['userId', 'movieId', 'rating']], reader)\n",
    "\n",
    "\n",
    "# Split the dataset into training and testing sets\n",
    "Trainset, Testset = train_test_split(data, test_size=.25)\n",
    "\n",
    "# Create a KNNWithMeans recommender\n",
    "algo = KNNWithMeans(k=20, sim_options={'name': 'pearson_baseline', 'user_based': False})\n",
    "\n",
    "# Train the recommender\n",
    "algo.fit(Trainset)\n",
    "\n",
    "# Make predictions on the test set\n",
    "predictions = algo.test(Testset)\n",
    "#predictions = algo.test(Trainset)\n",
    "# Evaluate the recommender\n",
    "accuracy.rmse(predictions, verbose=True)  # RMSE (Root Mean Square Error)\n",
    "accuracy.mae(predictions, verbose=True)   # MAE (Mean Absolute Error)\n",
    "\n",
    "# Make a prediction for a specific user-item pair\n",
    "##prediction = algo.predict('12', '2', r_ui=4, verbose=False)\n",
    "##print(prediction.est)  # Output: 4.25\n"
   ]
  },
  {
   "cell_type": "code",
   "execution_count": 17,
   "metadata": {
    "execution": {
     "iopub.execute_input": "2025-01-01T03:19:35.974311Z",
     "iopub.status.busy": "2025-01-01T03:19:35.973987Z",
     "iopub.status.idle": "2025-01-01T03:19:35.979137Z",
     "shell.execute_reply": "2025-01-01T03:19:35.978338Z",
     "shell.execute_reply.started": "2025-01-01T03:19:35.974263Z"
    }
   },
   "outputs": [
    {
     "name": "stdout",
     "output_type": "stream",
     "text": [
      "4.597805436884711\n"
     ]
    }
   ],
   "source": [
    "# PREDICTION\n",
    "prediction = algo.predict(36, 32, r_ui=0, verbose=False)\n",
    "print(prediction.est)  # Output: 3.54066"
   ]
  },
  {
   "cell_type": "code",
   "execution_count": 18,
   "metadata": {
    "execution": {
     "iopub.execute_input": "2025-01-01T03:19:39.584276Z",
     "iopub.status.busy": "2025-01-01T03:19:39.583864Z",
     "iopub.status.idle": "2025-01-01T03:19:39.592239Z",
     "shell.execute_reply": "2025-01-01T03:19:39.591521Z",
     "shell.execute_reply.started": "2025-01-01T03:19:39.584212Z"
    }
   },
   "outputs": [],
   "source": [
    "# CHECK ON TOP RECOMMENDATIONS OF USER 547\n",
    "#rd.loc[rd['userId'] == 547]\n",
    "rd547=rd.loc[rd['userId'] == 547].sort_values(by='rating', ascending=False)\n",
    "\n",
    "#Use the value_counts() function to count the frequency of each userId\n",
    "##user_id_counts = rd['userId'].value_counts()\n",
    "\n",
    "#Print the top 5 userIds with the highest frequency\n",
    "##print(user_id_counts.nlargest(5))\n"
   ]
  },
  {
   "cell_type": "code",
   "execution_count": 19,
   "metadata": {
    "execution": {
     "iopub.execute_input": "2025-01-01T03:19:42.745842Z",
     "iopub.status.busy": "2025-01-01T03:19:42.745564Z",
     "iopub.status.idle": "2025-01-01T03:20:01.753715Z",
     "shell.execute_reply": "2025-01-01T03:20:01.752786Z",
     "shell.execute_reply.started": "2025-01-01T03:19:42.745797Z"
    }
   },
   "outputs": [
    {
     "name": "stdout",
     "output_type": "stream",
     "text": [
      "Estimating biases using als...\n",
      "Computing the pearson_baseline similarity matrix...\n",
      "Done computing similarity matrix.\n",
      "Top-10 recommendations for user 32\n",
      "Item: 53, Predicted Rating: 5\n",
      "Item: 80, Predicted Rating: 5\n",
      "Item: 97, Predicted Rating: 5\n",
      "Item: 149, Predicted Rating: 5\n",
      "Item: 178, Predicted Rating: 5\n",
      "Item: 264, Predicted Rating: 5\n",
      "Item: 279, Predicted Rating: 5\n",
      "Item: 309, Predicted Rating: 5\n",
      "Item: 318, Predicted Rating: 5\n",
      "Item: 341, Predicted Rating: 5\n"
     ]
    }
   ],
   "source": [
    "# RECOMMENDER BUILDING + TOP 10 RECOMMENDATIONS\n",
    "from surprise import KNNWithMeans\n",
    "from surprise import Dataset\n",
    "from surprise import Reader\n",
    "from surprise.model_selection import train_test_split\n",
    "\n",
    "# Load the dataset\n",
    "reader = Reader(rating_scale=(1, 5))\n",
    "data = Dataset.load_from_df(rd[['userId', 'movieId', 'rating']], reader)\n",
    "\n",
    "# Split the dataset into training and testing sets\n",
    "trainset, testset = train_test_split(data, test_size=.25)\n",
    "\n",
    "# Create a KNNWithMeans algorithm object\n",
    "algo = KNNWithMeans(k=20, sim_options={'name': 'pearson_baseline', 'user_based': False})\n",
    "\n",
    "# Train the algorithm on the training set\n",
    "algo.fit(trainset)\n",
    "\n",
    "# Make predictions on the test set\n",
    "predictions = algo.test(testset)\n",
    "\n",
    "# Function to get Top-N recommendations for a user\n",
    "def get_top_n_recommendations(user_id, n=10):\n",
    "    # Get the user's ratings\n",
    "    user_ratings = [r for r in trainset.all_ratings() if r[0] == user_id]\n",
    "\n",
    "    # Get the user's rated items\n",
    "    rated_items = [r[1] for r in user_ratings]\n",
    "\n",
    "    # Get the predicted ratings for the user\n",
    "    predicted_ratings = []\n",
    "    for item in trainset.all_items():\n",
    "        if item not in rated_items:\n",
    "            predicted_rating = algo.predict(user_id, item, r_ui=0, verbose=False).est\n",
    "            predicted_ratings.append((item, predicted_rating))\n",
    "\n",
    "    # Sort the predicted ratings in descending order\n",
    "    predicted_ratings.sort(key=lambda x: x[1], reverse=True)\n",
    "\n",
    "    # Return the Top-N recommended items\n",
    "    return predicted_ratings[:n]\n",
    "\n",
    "# Example usage\n",
    "user_id = 32  # Replace with the desired user ID\n",
    "n = 10  # Replace with the desired number of recommendations\n",
    "\n",
    "top_n_recommendations = get_top_n_recommendations(user_id, n)\n",
    "print(\"Top-{} recommendations for user {}\".format(n, user_id))\n",
    "for item, rating in top_n_recommendations:\n",
    "    print(\"Item: {}, Predicted Rating: {}\".format(item, rating))"
   ]
  },
  {
   "cell_type": "code",
   "execution_count": 20,
   "metadata": {
    "execution": {
     "iopub.execute_input": "2025-01-01T03:20:07.663897Z",
     "iopub.status.busy": "2025-01-01T03:20:07.663605Z",
     "iopub.status.idle": "2025-01-01T03:20:07.693409Z",
     "shell.execute_reply": "2025-01-01T03:20:07.692608Z",
     "shell.execute_reply.started": "2025-01-01T03:20:07.663850Z"
    }
   },
   "outputs": [
    {
     "data": {
      "text/html": [
       "<div>\n",
       "<style scoped>\n",
       "    .dataframe tbody tr th:only-of-type {\n",
       "        vertical-align: middle;\n",
       "    }\n",
       "\n",
       "    .dataframe tbody tr th {\n",
       "        vertical-align: top;\n",
       "    }\n",
       "\n",
       "    .dataframe thead th {\n",
       "        text-align: right;\n",
       "    }\n",
       "</style>\n",
       "<table border=\"1\" class=\"dataframe\">\n",
       "  <thead>\n",
       "    <tr style=\"text-align: right;\">\n",
       "      <th></th>\n",
       "      <th>movieId</th>\n",
       "      <th>title</th>\n",
       "    </tr>\n",
       "  </thead>\n",
       "  <tbody>\n",
       "    <tr>\n",
       "      <th>0</th>\n",
       "      <td>53</td>\n",
       "      <td>Lamerica</td>\n",
       "    </tr>\n",
       "    <tr>\n",
       "      <th>1</th>\n",
       "      <td>80</td>\n",
       "      <td>The White Balloon</td>\n",
       "    </tr>\n",
       "    <tr>\n",
       "      <th>5</th>\n",
       "      <td>97</td>\n",
       "      <td>La Haine</td>\n",
       "    </tr>\n",
       "    <tr>\n",
       "      <th>13</th>\n",
       "      <td>149</td>\n",
       "      <td>Amateur</td>\n",
       "    </tr>\n",
       "    <tr>\n",
       "      <th>19</th>\n",
       "      <td>178</td>\n",
       "      <td>Love &amp; Human Remains</td>\n",
       "    </tr>\n",
       "    <tr>\n",
       "      <th>24</th>\n",
       "      <td>264</td>\n",
       "      <td>L'Enfer</td>\n",
       "    </tr>\n",
       "    <tr>\n",
       "      <th>26</th>\n",
       "      <td>279</td>\n",
       "      <td>My Family</td>\n",
       "    </tr>\n",
       "    <tr>\n",
       "      <th>30</th>\n",
       "      <td>309</td>\n",
       "      <td>Red Firecracker, Green Firecracker</td>\n",
       "    </tr>\n",
       "    <tr>\n",
       "      <th>33</th>\n",
       "      <td>318</td>\n",
       "      <td>The Shawshank Redemption</td>\n",
       "    </tr>\n",
       "    <tr>\n",
       "      <th>344</th>\n",
       "      <td>341</td>\n",
       "      <td>Double Happiness</td>\n",
       "    </tr>\n",
       "  </tbody>\n",
       "</table>\n",
       "</div>"
      ],
      "text/plain": [
       "     movieId                               title\n",
       "0         53                            Lamerica\n",
       "1         80                   The White Balloon\n",
       "5         97                            La Haine\n",
       "13       149                             Amateur\n",
       "19       178                Love & Human Remains\n",
       "24       264                             L'Enfer\n",
       "26       279                           My Family\n",
       "30       309  Red Firecracker, Green Firecracker\n",
       "33       318            The Shawshank Redemption\n",
       "344      341                    Double Happiness"
      ]
     },
     "execution_count": 20,
     "metadata": {},
     "output_type": "execute_result"
    }
   ],
   "source": [
    "# SEE MOVIE TITLES of top recommendations\n",
    "top_recommendations = pd.DataFrame(top_n_recommendations, columns=['movieId', 'Rating'])\n",
    "top_recommendations.head(20)\n",
    "\n",
    "#mergedRD = pd.merge(movie_ratings_joined, top_recommendations, on='movieId')\n",
    "#mergedRD.head(20)\n",
    "\n",
    "mergedRD = pd.merge(top_recommendations[['movieId']], movie_ratings_joined[['movieId','title']], on='movieId', how='left')\n",
    "df_unique = mergedRD.drop_duplicates()\n",
    "df_unique"
   ]
  },
  {
   "cell_type": "code",
   "execution_count": 21,
   "metadata": {
    "execution": {
     "iopub.execute_input": "2025-01-01T03:20:12.891270Z",
     "iopub.status.busy": "2025-01-01T03:20:12.890925Z",
     "iopub.status.idle": "2025-01-01T03:20:12.896352Z",
     "shell.execute_reply": "2025-01-01T03:20:12.895272Z",
     "shell.execute_reply.started": "2025-01-01T03:20:12.891216Z"
    }
   },
   "outputs": [],
   "source": [
    "#SURPLUS CODE\n",
    "#rdconcise = rd[['userId', 'movieId', 'rating']]\n",
    "#rdconcise.loc[rdconcise['movieId'] == 30]\n",
    "#print(row)\n",
    "#rd.loc[rd['movieId'] == 559]\n",
    "\n",
    "#To augment the Python code to include movie titles in the Top-N recommended items, you'll need to make the following modifications:\n",
    "\n",
    "#Step 1: Merge Movie Titles with the Dataset\n",
    "#Assuming you have a DataFrame movies_df containing the movie IDs and titles, merge this DataFrame with your original ratings DataFrame your_dataframe before loading it into the Surprise Dataset.\n",
    "#merged_df = pd.merge(your_dataframe, movies_df, on='movieId')\n",
    "##movie_ratings_joined\n",
    "\n",
    "\n",
    "#Step 2: Modify the get_top_n_recommendations Function\n",
    "#Update the get_top_n_recommendations function to include the movie titles in the predicted ratings list.\n",
    "\n",
    "\n",
    "#def get_top_n_recommendations(user_id, n=10):\n",
    "    # Get the user's ratings\n",
    "#    user_ratings = [r for r in trainset.all_ratings() if r[0] == user_id]\n",
    "\n",
    "    # Get the user's rated items\n",
    "#    rated_items = [r[1] for r in user_ratings]\n",
    "\n",
    "    # Get the predicted ratings for the user\n",
    "#    predicted_ratings = []\n",
    "#    for item in trainset.all_items():\n",
    "#        if item not in rated_items:\n",
    "#            predicted_rating = algo.predict(user_id, item, r_ui=0, verbose=False).est\n",
    "            # Get the movie title from the merged DataFrame\n",
    "#            movie_title = movie_ratings_joined.loc[movie_ratings_joined['movieId'] == item, 'title'].iloc[0]\n",
    "#            predicted_ratings.append((item, movie_title, predicted_rating))\n",
    "\n",
    "    # Sort the predicted ratings in descending order\n",
    "#    predicted_ratings.sort(key=lambda x: x[2], reverse=True)\n",
    "\n",
    "    # Return the Top-N recommended items\n",
    "#    return predicted_ratings[:n]\n",
    "\n",
    "\n",
    "\n",
    "#Step 3: Update the Example Usage\n",
    "#Modify the example usage to print the movie titles along with the predicted ratings.\n",
    "#user_id = 11  # Replace with the desired user ID\n",
    "#n = 10  # Replace with the desired number of recommendations\n",
    "\n",
    "#top_n_recommendations = get_top_n_recommendations(user_id, n)\n",
    "#print(\"Top-{} recommendations for user {}\".format(n, user_id))\n",
    "#for item, title, rating in top_n_recommendations:\n",
    "#    print(\"Item: {}, Title: {}, Predicted Rating: {}\".format(item, title, rating))"
   ]
  }
 ],
 "metadata": {
  "kaggle": {
   "accelerator": "none",
   "dataSources": [
    {
     "datasetId": 138,
     "sourceId": 4508,
     "sourceType": "datasetVersion"
    },
    {
     "datasetId": 3405,
     "sourceId": 6663,
     "sourceType": "datasetVersion"
    }
   ],
   "dockerImageVersionId": 20477,
   "isGpuEnabled": false,
   "isInternetEnabled": false,
   "language": "python",
   "sourceType": "notebook"
  },
  "kernelspec": {
   "display_name": "Python 3",
   "language": "python",
   "name": "python3"
  },
  "language_info": {
   "codemirror_mode": {
    "name": "ipython",
    "version": 3
   },
   "file_extension": ".py",
   "mimetype": "text/x-python",
   "name": "python",
   "nbconvert_exporter": "python",
   "pygments_lexer": "ipython3",
   "version": "3.6.6"
  }
 },
 "nbformat": 4,
 "nbformat_minor": 4
}
